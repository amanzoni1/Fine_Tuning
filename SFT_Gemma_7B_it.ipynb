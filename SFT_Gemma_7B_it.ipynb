{
  "nbformat": 4,
  "nbformat_minor": 0,
  "metadata": {
    "colab": {
      "provenance": [],
      "gpuType": "T4",
      "authorship_tag": "ABX9TyNS3F/7eKx1B9AlxqX9Z2ku",
      "include_colab_link": true
    },
    "kernelspec": {
      "name": "python3",
      "display_name": "Python 3"
    },
    "language_info": {
      "name": "python"
    },
    "accelerator": "GPU",
  },
  "cells": [
    {
      "cell_type": "markdown",
      "metadata": {
        "id": "view-in-github",
        "colab_type": "text"
      },
      "source": [
        "<a href=\"https://colab.research.google.com/github/amanzoni1/fine_tuning/blob/main/SFT_Gemma_7B_it.ipynb\" target=\"_parent\"><img src=\"https://colab.research.google.com/assets/colab-badge.svg\" alt=\"Open In Colab\"/></a>"
      ]
    },
    {
      "cell_type": "markdown",
      "source": [
        "# Fine-Tuning Gemma-7B-Instruct for Financial Sentiment Classification\n",
        "\n",
        "## 🎯 Project Overview\n",
        "\n",
        "In this comprehensive Colab project, we'll demonstrate **memory-efficient fine-tuning** of a large language model using modern techniques. We'll transform **Gemma-7B-Instruct** from a general-purpose assistant into a specialized financial sentiment classifier through parameter-efficient training.\n",
        "\n",
        "## 🔧 Technical Stack\n",
        "- **Base Model**: Gemma-7B-Instruct (7B parameters)\n",
        "- **Fine-tuning Method**: Supervised Fine-Tuning (SFT) with LoRA adapters\n",
        "- **Memory Optimization**: 4-bit quantization via bitsandbytes\n",
        "- **Framework**: Transformers + PEFT + TRL\n",
        "\n",
        "\n",
        "## 💡 Why Fine-Tune Instead of Zero-Shot?\n",
        "\n",
        "Large language models like Gemma can do sentiment analysis out-of-the-box, but fine-tuning gives you:\n",
        "\n",
        "1. **Update + Learn New Knowledge**  \n",
        "   Inject domain-specific financial terminology and market context that general models might miss—for example:  \n",
        "   - *“Fed hawkish stance”* → Recognize central bank policy implications  \n",
        "   - *“Earnings beat by 15%”* → Grasp magnitude significance\n",
        "\n",
        "2. **Customize Behavior**  \n",
        "   Enforce consistent, structured outputs:  \n",
        "   - Turn verbose explanations into clean labels  \n",
        "   - Standardize optional fields (e.g. confidence scores)  \n",
        "\n",
        "3. **Optimize for Your Task**  \n",
        "   Improve accuracy on subtle, finance-specific sentiment cues:  \n",
        "   - Distinguish market-moving news vs. routine reports  \n",
        "   - Handle jargon, numbers, and percentages robustly\n",
        "\n",
        "## 📊 Generative Classification\n",
        "\n",
        "Instead of traditional classification heads, we frame sentiment analysis as a **generative task**:\n",
        "\n",
        "```\n",
        "Input Prompt:\n",
        "\"Analyze the sentiment of this financial headline: 'Apple reports record Q3 revenue, beats analyst expectations by 12%'\n",
        "Sentiment:\"\n",
        "\n",
        "Expected Output:\n",
        "{\n",
        "  \"sentiment\": \"POSITIVE\",\n",
        "  \"confidence\": 0.87\n",
        "}\n",
        "```\n",
        "\n",
        "This approach leverages the model's natural language generation capabilities while maintaining structure.\n"
      ],
      "metadata": {
        "id": "6N6P6sXjqXcI"
      }
    },
    {
      "cell_type": "code",
      "execution_count": null,
      "metadata": {
        "id": "Hsv43nipJ4qk"
      },
      "outputs": [],
      "source": []
    },
    {
      "cell_type": "code",
      "source": [
        "import getpass\n",
        "import os\n",
        "\n",
        "# Prompt for the token\n",
        "hf_token = getpass.getpass('Enter your HF access token and press enter: ')\n",
        "\n",
        "# Set the environment variable\n",
        "os.environ['HF_TOKEN'] = hf_token\n",
        "\n",
        "print(\"HF_TOKEN environment variable has been set.\")"
      ],
      "metadata": {
        "colab": {
          "base_uri": "https://localhost:8080/"
        },
        "id": "Irsy_2HUOwoO",
        "outputId": "e0488e49-0ff5-4e92-ba36-076f851028f0"
      },
      "execution_count": null,
      "outputs": [
        {
          "output_type": "stream",
          "name": "stdout",
          "text": [
            "Enter your HF access token and press enter: ··········\n",
            "HF_TOKEN environment variable has been set.\n"
          ]
        }
      ]
    },
    {
      "cell_type": "code",
      "source": [],
      "metadata": {
        "id": "Jyig5gYBOwl5"
      },
      "execution_count": null,
      "outputs": []
    },
    {
      "cell_type": "code",
      "source": [
        "model_name = \"google/gemma-7b-it\"\n",
        "dataset_name = \"financial_phrasebank\""
      ],
      "metadata": {
        "id": "ua5QEb4fRZbx"
      },
      "execution_count": null,
      "outputs": []
    },
    {
      "cell_type": "markdown",
      "source": [
        "# Load & Inspect Dataset"
      ],
      "metadata": {
        "id": "cCOZTsNDXcQ7"
      }
    },
    {
      "cell_type": "code",
      "source": [
        "!pip install --quiet seaborn matplotlib\n",
        "!pip install -U --quiet torch transformers datasets accelerate bitsandbytes peft trl"
      ],
      "metadata": {
        "colab": {
          "base_uri": "https://localhost:8080/"
        },
        "collapsed": true,
        "id": "Ys13C9Yjp3i3",
        "outputId": "9bf89606-ed10-4319-d35a-26990aa78bd3"
      },
      "execution_count": null,
      "outputs": [
        {
          "output_type": "stream",
          "name": "stdout",
          "text": [
            "\u001b[2K     \u001b[90m━━━━━━━━━━━━━━━━━━━━━━━━━━━━━━━━━━━━━━━━\u001b[0m \u001b[32m40.2/40.2 kB\u001b[0m \u001b[31m2.7 MB/s\u001b[0m eta \u001b[36m0:00:00\u001b[0m\n",
            "\u001b[2K   \u001b[90m━━━━━━━━━━━━━━━━━━━━━━━━━━━━━━━━━━━━━━━━\u001b[0m \u001b[32m491.5/491.5 kB\u001b[0m \u001b[31m24.6 MB/s\u001b[0m eta \u001b[36m0:00:00\u001b[0m\n",
            "\u001b[2K   \u001b[90m━━━━━━━━━━━━━━━━━━━━━━━━━━━━━━━━━━━━━━━━\u001b[0m \u001b[32m10.5/10.5 MB\u001b[0m \u001b[31m81.0 MB/s\u001b[0m eta \u001b[36m0:00:00\u001b[0m\n",
            "\u001b[2K   \u001b[90m━━━━━━━━━━━━━━━━━━━━━━━━━━━━━━━━━━━━━━━━\u001b[0m \u001b[32m67.0/67.0 MB\u001b[0m \u001b[31m14.7 MB/s\u001b[0m eta \u001b[36m0:00:00\u001b[0m\n",
            "\u001b[2K   \u001b[90m━━━━━━━━━━━━━━━━━━━━━━━━━━━━━━━━━━━━━━━━\u001b[0m \u001b[32m366.3/366.3 kB\u001b[0m \u001b[31m29.5 MB/s\u001b[0m eta \u001b[36m0:00:00\u001b[0m\n",
            "\u001b[2K   \u001b[90m━━━━━━━━━━━━━━━━━━━━━━━━━━━━━━━━━━━━━━━━\u001b[0m \u001b[32m193.6/193.6 kB\u001b[0m \u001b[31m17.0 MB/s\u001b[0m eta \u001b[36m0:00:00\u001b[0m\n",
            "\u001b[2K   \u001b[90m━━━━━━━━━━━━━━━━━━━━━━━━━━━━━━━━━━━━━━━━\u001b[0m \u001b[32m363.4/363.4 MB\u001b[0m \u001b[31m4.9 MB/s\u001b[0m eta \u001b[36m0:00:00\u001b[0m\n",
            "\u001b[2K   \u001b[90m━━━━━━━━━━━━━━━━━━━━━━━━━━━━━━━━━━━━━━━━\u001b[0m \u001b[32m13.8/13.8 MB\u001b[0m \u001b[31m102.5 MB/s\u001b[0m eta \u001b[36m0:00:00\u001b[0m\n",
            "\u001b[2K   \u001b[90m━━━━━━━━━━━━━━━━━━━━━━━━━━━━━━━━━━━━━━━━\u001b[0m \u001b[32m24.6/24.6 MB\u001b[0m \u001b[31m96.1 MB/s\u001b[0m eta \u001b[36m0:00:00\u001b[0m\n",
            "\u001b[2K   \u001b[90m━━━━━━━━━━━━━━━━━━━━━━━━━━━━━━━━━━━━━━━━\u001b[0m \u001b[32m883.7/883.7 kB\u001b[0m \u001b[31m52.5 MB/s\u001b[0m eta \u001b[36m0:00:00\u001b[0m\n",
            "\u001b[2K   \u001b[90m━━━━━━━━━━━━━━━━━━━━━━━━━━━━━━━━━━━━━━━━\u001b[0m \u001b[32m664.8/664.8 MB\u001b[0m \u001b[31m1.4 MB/s\u001b[0m eta \u001b[36m0:00:00\u001b[0m\n",
            "\u001b[2K   \u001b[90m━━━━━━━━━━━━━━━━━━━━━━━━━━━━━━━━━━━━━━━━\u001b[0m \u001b[32m211.5/211.5 MB\u001b[0m \u001b[31m6.0 MB/s\u001b[0m eta \u001b[36m0:00:00\u001b[0m\n",
            "\u001b[2K   \u001b[90m━━━━━━━━━━━━━━━━━━━━━━━━━━━━━━━━━━━━━━━━\u001b[0m \u001b[32m56.3/56.3 MB\u001b[0m \u001b[31m14.5 MB/s\u001b[0m eta \u001b[36m0:00:00\u001b[0m\n",
            "\u001b[2K   \u001b[90m━━━━━━━━━━━━━━━━━━━━━━━━━━━━━━━━━━━━━━━━\u001b[0m \u001b[32m127.9/127.9 MB\u001b[0m \u001b[31m8.3 MB/s\u001b[0m eta \u001b[36m0:00:00\u001b[0m\n",
            "\u001b[2K   \u001b[90m━━━━━━━━━━━━━━━━━━━━━━━━━━━━━━━━━━━━━━━━\u001b[0m \u001b[32m207.5/207.5 MB\u001b[0m \u001b[31m6.0 MB/s\u001b[0m eta \u001b[36m0:00:00\u001b[0m\n",
            "\u001b[2K   \u001b[90m━━━━━━━━━━━━━━━━━━━━━━━━━━━━━━━━━━━━━━━━\u001b[0m \u001b[32m21.1/21.1 MB\u001b[0m \u001b[31m106.7 MB/s\u001b[0m eta \u001b[36m0:00:00\u001b[0m\n",
            "\u001b[?25h\u001b[31mERROR: pip's dependency resolver does not currently take into account all the packages that are installed. This behaviour is the source of the following dependency conflicts.\n",
            "gcsfs 2025.3.2 requires fsspec==2025.3.2, but you have fsspec 2025.3.0 which is incompatible.\u001b[0m\u001b[31m\n",
            "\u001b[0m"
          ]
        }
      ]
    },
    {
      "cell_type": "code",
      "source": [
        "from datasets import load_dataset, load_dataset_builder\n",
        "import numpy as np\n",
        "import pandas as pd\n",
        "import matplotlib.pyplot as plt\n",
        "import seaborn as sns"
      ],
      "metadata": {
        "id": "ASURUH9fuUom"
      },
      "execution_count": null,
      "outputs": []
    },
    {
      "cell_type": "code",
      "source": [
        "# Configure plotting style\n",
        "plt.style.use('seaborn-v0_8')\n",
        "sns.set_palette(\"pastel\")"
      ],
      "metadata": {
        "id": "o9tTZRF8vO7F"
      },
      "execution_count": null,
      "outputs": []
    },
    {
      "cell_type": "code",
      "source": [],
      "metadata": {
        "id": "ZpqcAs8_6Qb_"
      },
      "execution_count": null,
      "outputs": []
    },
    {
      "cell_type": "code",
      "source": [],
      "metadata": {
        "id": "wBCmivs0PITR"
      },
      "execution_count": null,
      "outputs": []
    },
    {
      "cell_type": "code",
      "source": [
        "# Preview dataset metadata\n",
        "ds_builder = load_dataset_builder(dataset_name, \"sentences_75agree\", trust_remote_code=True)\n",
        "\n",
        "print(\"Description:\\n\", ds_builder.info.description[:500], \"...\\n\")\n",
        "print(\"Features:\", ds_builder.info.features)"
      ],
      "metadata": {
        "colab": {
          "base_uri": "https://localhost:8080/",
          "height": 359,
        },
        "id": "JNiYlhcVPIQl",
        "outputId": "334074d0-d6fa-477d-f586-22a14793db8a"
      },
      "execution_count": null,
      "outputs": [
        {
          "output_type": "stream",
          "name": "stderr",
          "text": [
            "/usr/local/lib/python3.11/dist-packages/huggingface_hub/utils/_auth.py:94: UserWarning: \n",
            "The secret `HF_TOKEN` does not exist in your Colab secrets.\n",
            "To authenticate with the Hugging Face Hub, create a token in your settings tab (https://huggingface.co/settings/tokens), set it as secret in your Google Colab and restart your session.\n",
            "You will be able to reuse this secret in all of your notebooks.\n",
            "Please note that authentication is recommended but still optional to access public models or datasets.\n",
            "  warnings.warn(\n"
          ]
        },
        {
          "output_type": "stream",
          "name": "stdout",
          "text": [
            "Description:\n",
            " The key arguments for the low utilization of statistical techniques in\n",
            "financial sentiment analysis have been the difficulty of implementation for\n",
            "practical applications and the lack of high quality training data for building\n",
            "such models. Especially in the case of finance and economic texts, annotated\n",
            "collections are a scarce resource and many are reserved for proprietary use\n",
            "only. To resolve the missing training data problem, we present a collection of\n",
            "∼ 5000 sentences to establish human-annota ...\n",
            "\n",
            "Features: {'sentence': Value(dtype='string', id=None), 'label': ClassLabel(names=['negative', 'neutral', 'positive'], id=None)}\n"
          ]
        }
      ]
    },
    {
      "cell_type": "code",
      "source": [
        "# Load the data\n",
        "raw = load_dataset(dataset_name, \"sentences_75agree\")\n",
        "\n",
        "print(\"\\nRaw dataset object:\\n\", raw)"
      ],
      "metadata": {
        "colab": {
          "base_uri": "https://localhost:8080/",
          "height": 220,
        },
        "id": "49shQj0ePIOE",
        "outputId": "882561bf-fbca-4f3b-82b8-076629277f8f"
      },
      "execution_count": null,
      "outputs": [
        {
          "output_type": "stream",
          "name": "stdout",
          "text": [
            "\n",
            "Raw dataset object:\n",
            " DatasetDict({\n",
            "    train: Dataset({\n",
            "        features: ['sentence', 'label'],\n",
            "        num_rows: 3453\n",
            "    })\n",
            "})\n"
          ]
        }
      ]
    },
    {
      "cell_type": "code",
      "source": [
        "# Extract the train split\n",
        "dataset = load_dataset(dataset_name, \"sentences_75agree\", split=\"train\")\n",
        "\n",
        "print(\"\\nDataset object:\\n\", dataset)\n",
        "print(f\"\\nUsing 'train' split with {len(dataset)} examples.\")"
      ],
      "metadata": {
        "colab": {
          "base_uri": "https://localhost:8080/"
        },
        "id": "fRCk37KwPpXE",
        "outputId": "bf2ab7be-69f0-484d-f587-62f1d003a0cb"
      },
      "execution_count": null,
      "outputs": [
        {
          "output_type": "stream",
          "name": "stdout",
          "text": [
            "\n",
            "Dataset object:\n",
            " Dataset({\n",
            "    features: ['sentence', 'label'],\n",
            "    num_rows: 3453\n",
            "})\n",
            "\n",
            "Using 'train' split with 3453 examples.\n"
          ]
        }
      ]
    },
    {
      "cell_type": "code",
      "source": [],
      "metadata": {
        "id": "vT4r0R3XQSXD"
      },
      "execution_count": null,
      "outputs": []
    },
    {
      "cell_type": "markdown",
      "source": [
        "### Sample Sentences\n"
      ],
      "metadata": {
        "id": "AjYBFbPUQDhn"
      }
    },
    {
      "cell_type": "code",
      "source": [
        "# get the label names from the ClassLabel feature\n",
        "label_names = dataset.features[\"label\"].names\n",
        "\n",
        "for label_id, label_name in enumerate(label_names):\n",
        "    print(f\"\\n{label_name.upper()} examples:\")\n",
        "    # filter down to this label, then select the first 3\n",
        "    examples = (\n",
        "        dataset\n",
        "        .filter(lambda ex: ex[\"label\"] == label_id)\n",
        "        .select(range(3))\n",
        "    )\n",
        "    for i, ex in enumerate(examples, start=1):\n",
        "        print(f\"  {i}. {ex['sentence']}\")"
      ],
      "metadata": {
        "colab": {
          "base_uri": "https://localhost:8080/",
          "height": 393,
        },
        "id": "EbGHfrSPK8w1",
        "outputId": "09fb29e5-1427-43a2-f164-e264d9882ee9"
      },
      "execution_count": null,
      "outputs": [
        {
          "output_type": "stream",
          "name": "stdout",
          "text": [
            "\n",
            "NEGATIVE examples:\n"
          ]
        },
        {
          "output_type": "stream",
          "name": "stdout",
          "text": [
            "  1. Jan. 6 -- Ford is struggling in the face of slowing truck and SUV sales and a surfeit of up-to-date , gotta-have cars .\n",
            "  2. Pharmaceuticals group Orion Corp reported a fall in its third-quarter earnings that were hit by larger expenditures on R&D and marketing .\n",
            "  3. However , the growth margin slowed down due to the financial crisis .\n",
            "\n",
            "NEUTRAL examples:\n"
          ]
        },
        {
          "output_type": "stream",
          "name": "stdout",
          "text": [
            "  1. According to Gran , the company has no plans to move all production to Russia , although that is where the company is growing .\n",
            "  2. At the request of Finnish media company Alma Media 's newspapers , research manager Jari Kaivo-oja at the Finland Futures Research Centre at the Turku School of Economics has drawn up a future scenario for Finland 's national economy by using a model developed by the University of Denver .\n",
            "  3. In Sweden , Gallerix accumulated SEK denominated sales were down 1 % and EUR denominated sales were up 11 % .\n",
            "\n",
            "POSITIVE examples:\n"
          ]
        },
        {
          "output_type": "stream",
          "name": "stdout",
          "text": [
            "  1. With the new production plant the company would increase its capacity to meet the expected increase in demand and would improve the use of raw materials and therefore increase the production profitability .\n",
            "  2. For the last quarter of 2010 , Componenta 's net sales doubled to EUR131m from EUR76m for the same period a year earlier , while it moved to a zero pre-tax profit from a pre-tax loss of EUR7m .\n",
            "  3. In the third quarter of 2010 , net sales increased by 5.2 % to EUR 205.5 mn , and operating profit by 34.9 % to EUR 23.5 mn .\n"
          ]
        }
      ]
    },
    {
      "cell_type": "code",
      "source": [],
      "metadata": {
        "id": "mdhHc1vOQT_i"
      },
      "execution_count": null,
      "outputs": []
    },
    {
      "cell_type": "markdown",
      "source": [
        "### Sentiment Distribution\n",
        "\n"
      ],
      "metadata": {
        "id": "ccLBYeSDQUSy"
      }
    },
    {
      "cell_type": "code",
      "source": [
        "from collections import Counter\n",
        "\n",
        "# Build label→count mapping\n",
        "label_names = dataset.features[\"label\"].names\n",
        "counts = Counter(label_names[l] for l in dataset[\"label\"])\n",
        "total = sum(counts.values())\n",
        "\n",
        "# Print counts and percentages\n",
        "for name, cnt in counts.items():\n",
        "    pct = cnt / total * 100\n",
        "    print(f\"{name.capitalize():9s}: {cnt} ({pct:.1f}%)\")\n",
        "\n",
        "# Plot count distribution\n",
        "fig, (ax1, ax2) = plt.subplots(1, 2, figsize=(10, 4))\n",
        "# Bar chart (Count)\n",
        "sns.barplot(x=list(counts.keys()), y=list(counts.values()), ax=ax1)\n",
        "ax1.set_title(\"Sentiment Distribution (Count)\")\n",
        "ax1.set_xlabel(\"Sentiment\")\n",
        "ax1.set_ylabel(\"Count\")\n",
        "\n",
        "# Pie chart (Percentage)\n",
        "ax2.pie(counts.values(), labels=counts.keys(), autopct=\"%1.1f%%\", startangle=90)\n",
        "ax2.set_title(\"Sentiment Distribution (Percentage)\")\n",
        "\n",
        "plt.tight_layout()\n",
        "plt.show()"
      ],
      "metadata": {
        "colab": {
          "base_uri": "https://localhost:8080/",
          "height": 459
        },
        "id": "jMmnwtMzJqND",
        "outputId": "5dca2f18-e116-4a7b-bf0f-ebfa99f89d17"
      },
      "execution_count": null,
      "outputs": [
        {
          "output_type": "stream",
          "name": "stdout",
          "text": [
            "Neutral  : 2146 (62.1%)\n",
            "Positive : 887 (25.7%)\n",
            "Negative : 420 (12.2%)\n"
          ]
        },
        {
          "output_type": "display_data",
          "data": {
            "text/plain": [
              "<Figure size 1000x400 with 2 Axes>"
            ],
            "image/png": "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\n"
          },
          "metadata": {}
        }
      ]
    },
    {
      "cell_type": "code",
      "source": [],
      "metadata": {
        "id": "wXg-zK8xJqKr"
      },
      "execution_count": null,
      "outputs": []
    },
    {
      "cell_type": "markdown",
      "source": [
        "### Text Characteristics Analysis"
      ],
      "metadata": {
        "id": "sh1ltE116I4W"
      }
    },
    {
      "cell_type": "code",
      "source": [
        "df = pd.DataFrame(dataset)\n",
        "\n",
        "# Compute metrics\n",
        "df[\"char_count\"]     = df[\"sentence\"].str.len()\n",
        "df[\"word_count\"]     = df[\"sentence\"].str.split().str.len()\n",
        "df[\"avg_word_length\"]= df[\"sentence\"].apply(lambda s: np.mean([len(w) for w in s.split()]))\n",
        "\n",
        "# Print overall stats\n",
        "print(\"Overall statistics:\")\n",
        "print(f\" • Avg characters   : {df['char_count'].mean():.1f}\")\n",
        "print(f\" • Avg words        : {df['word_count'].mean():.1f}\")\n",
        "print(f\" • Avg word length  : {df['avg_word_length'].mean():.1f}\")\n",
        "\n",
        "# Distribution by sentiment\n",
        "print(\"\\nBy-sentiment averages:\")\n",
        "stats = df.groupby(df[\"label\"].map(lambda i: dataset.features[\"label\"].names[i])) \\\n",
        "           .agg({\n",
        "             \"char_count\":     [\"mean\",\"std\"],\n",
        "             \"word_count\":     [\"mean\",\"std\"],\n",
        "             \"avg_word_length\":[\"mean\",\"std\"]\n",
        "           }).round(1)\n",
        "print(stats)\n",
        "\n",
        "# Plotting\n",
        "fig, axes = plt.subplots(1, 3, figsize=(12, 4))\n",
        "sns.histplot(df, x=\"char_count\",   hue=df[\"label\"].map(lambda i: dataset.features[\"label\"].names[i]),\n",
        "             kde=False, ax=axes[0], bins=20).set(title=\"Char Count\")\n",
        "sns.histplot(df, x=\"word_count\",   hue=df[\"label\"].map(lambda i: dataset.features[\"label\"].names[i]),\n",
        "             kde=False, ax=axes[1], bins=15).set(title=\"Word Count\")\n",
        "sns.boxplot(x=df[\"label\"].map(lambda i: dataset.features[\"label\"].names[i]),\n",
        "            y=\"avg_word_length\", data=df, ax=axes[2]).set(title=\"Avg. Word Length\")\n",
        "plt.tight_layout()\n",
        "plt.show()"
      ],
      "metadata": {
        "colab": {
          "base_uri": "https://localhost:8080/",
          "height": 615
        },
        "id": "FQRIdhXQJqIS",
        "outputId": "683b7f1a-26a5-4b17-92be-63b49634b218"
      },
      "execution_count": null,
      "outputs": [
        {
          "output_type": "stream",
          "name": "stdout",
          "text": [
            "Overall statistics:\n",
            " • Avg characters   : 124.9\n",
            " • Avg words        : 22.8\n",
            " • Avg word length  : 4.5\n",
            "\n",
            "By-sentiment averages:\n",
            "         char_count       word_count       avg_word_length     \n",
            "               mean   std       mean   std            mean  std\n",
            "label                                                          \n",
            "negative      126.4  53.8       24.5  10.1             4.2  0.6\n",
            "neutral       120.9  56.6       21.5   9.8             4.7  0.7\n",
            "positive      133.6  56.3       24.9  10.3             4.4  0.7\n"
          ]
        },
        {
          "output_type": "display_data",
          "data": {
            "text/plain": [
              "<Figure size 1200x400 with 3 Axes>"
            ],
            "image/png": "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\n"
          },
          "metadata": {}
        }
      ]
    },
    {
      "cell_type": "code",
      "source": [],
      "metadata": {
        "id": "Ex-FdyyJJqF4"
      },
      "execution_count": null,
      "outputs": []
    },
    {
      "cell_type": "code",
      "source": [
        "import re\n",
        "import string\n",
        "from sklearn.feature_extraction.text import ENGLISH_STOP_WORDS\n",
        "\n",
        "# Build stopword set + punctuation\n",
        "stopwords = set(ENGLISH_STOP_WORDS) | set(string.punctuation)\n",
        "\n",
        "# Tokenize & filter out stopwords, tokens containing digits, and very short tokens\n",
        "tokens = []\n",
        "for sent in df[\"sentence\"].str.lower():\n",
        "    words = re.findall(r'\\b\\w+\\b', sent)\n",
        "    for w in words:\n",
        "        if (\n",
        "            w not in stopwords           # not a stopword/punctuation\n",
        "            and not re.search(r'\\d', w)  # no digits\n",
        "            and len(w) > 2               # longer than 2 chars\n",
        "        ):\n",
        "            tokens.append(w)\n",
        "\n",
        "# Get top 20 tokens now\n",
        "freq = Counter(tokens)\n",
        "top20 = freq.most_common(20)\n",
        "\n",
        "\n",
        "print(\"Cleaned vocabulary (no numbers, no stopwords)\")\n",
        "\n",
        "for word, count in top20:\n",
        "    print(f\"{word:12s}: {count}\")\n",
        "\n",
        "# Plot\n",
        "plt.figure(figsize=(8, 4))\n",
        "sns.barplot(x=[w for w,_ in top20], y=[c for _,c in top20])\n",
        "plt.title(\"Top 20 Tokens (Filtered)\")\n",
        "plt.xticks(rotation=45)\n",
        "plt.xlabel(\"Token\")\n",
        "plt.ylabel(\"Frequency\")\n",
        "plt.tight_layout()\n",
        "plt.show()"
      ],
      "metadata": {
        "colab": {
          "base_uri": "https://localhost:8080/",
          "height": 772
        },
        "id": "EE9_8D-HJqDf",
        "outputId": "d41ffa34-bda8-4c1a-a686-e05736488f33"
      },
      "execution_count": null,
      "outputs": [
        {
          "output_type": "stream",
          "name": "stdout",
          "text": [
            "Cleaned vocabulary (no numbers, no stopwords)\n",
            "eur         : 916\n",
            "company     : 577\n",
            "profit      : 385\n",
            "net         : 379\n",
            "sales       : 377\n",
            "million     : 366\n",
            "finnish     : 350\n",
            "said        : 344\n",
            "year        : 338\n",
            "operating   : 258\n",
            "mln         : 255\n",
            "quarter     : 237\n",
            "group       : 237\n",
            "period      : 236\n",
            "finland     : 228\n",
            "share       : 193\n",
            "business    : 186\n",
            "oyj         : 168\n",
            "new         : 166\n",
            "shares      : 166\n"
          ]
        },
        {
          "output_type": "display_data",
          "data": {
            "text/plain": [
              "<Figure size 800x400 with 1 Axes>"
            ],
            "image/png": "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\n"
          },
          "metadata": {}
        }
      ]
    },
    {
      "cell_type": "code",
      "source": [],
      "metadata": {
        "id": "jpKX9tD_6hhi"
      },
      "execution_count": null,
      "outputs": []
    },
    {
      "cell_type": "code",
      "source": [
        "# Define your terms and prepare a list of (term, sentiment, count)\n",
        "financial_terms = [\n",
        "    'revenue', 'profit', 'loss', 'earnings', 'growth', 'decline',\n",
        "    'stock', 'share', 'dividend', 'quarter', 'market', 'sales',\n",
        "    'analyst', 'forecast', 'billion', 'million', 'percent', 'business',\n",
        "    'beat', 'miss', 'guidance', 'outlook', 'performance', 'results'\n",
        "]\n",
        "\n",
        "records = []\n",
        "label_names = dataset.features[\"label\"].names\n",
        "\n",
        "for label_id, label_name in enumerate(label_names):\n",
        "    # extract all sentences for this sentiment\n",
        "    sub = df[df[\"label\"] == label_id][\"sentence\"].str.lower()\n",
        "    # count each term\n",
        "    term_counts = {term: sub.str.contains(term, regex=False).sum() for term in financial_terms}\n",
        "    for term, cnt in term_counts.items():\n",
        "        records.append({\"term\": term, \"sentiment\": label_name, \"count\": cnt})\n",
        "\n",
        "# Build a DataFrame and pick top N terms overall\n",
        "term_df = pd.DataFrame(records)\n",
        "overall = term_df.groupby(\"term\").sum().sort_values(\"count\", ascending=False).head(10).index.tolist()\n",
        "plot_df = term_df[term_df[\"term\"].isin(overall)]\n",
        "\n",
        "# Plot grouped bar chart\n",
        "plt.figure(figsize=(8, 4))\n",
        "sns.barplot(\n",
        "    data=plot_df,\n",
        "    x=\"term\", y=\"count\", hue=\"sentiment\",\n",
        "    order=overall\n",
        ")\n",
        "plt.title(\"Top 10 Financial Terms by Sentiment\", fontsize=14, fontweight='bold')\n",
        "plt.xlabel(\"Financial Term\")\n",
        "plt.ylabel(\"Count in Headlines\")\n",
        "plt.xticks(rotation=45, ha='right')\n",
        "plt.legend(title=\"Sentiment\")\n",
        "plt.tight_layout()\n",
        "plt.show()"
      ],
      "metadata": {
        "colab": {
          "base_uri": "https://localhost:8080/",
          "height": 407
        },
        "id": "5ydgCzwaJqBB",
        "outputId": "63cc6453-9cc0-4c93-807c-f2ecf04f45f2"
      },
      "execution_count": null,
      "outputs": [
        {
          "output_type": "display_data",
          "data": {
            "text/plain": [
              "<Figure size 800x400 with 1 Axes>"
            ],
            "image/png": "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\n"
          },
          "metadata": {}
        }
      ]
    },
    {
      "cell_type": "code",
      "source": [],
      "metadata": {
        "id": "qs4OncyUIth9"
      },
      "execution_count": null,
      "outputs": []
    },
    {
      "cell_type": "code",
      "source": [],
      "metadata": {
        "id": "N5nqd48UItcA"
      },
      "execution_count": null,
      "outputs": []
    },
    {
      "cell_type": "code",
      "source": [],
      "metadata": {
        "id": "sNyyznIG2swQ"
      },
      "execution_count": null,
      "outputs": []
    },
    {
      "cell_type": "markdown",
      "source": [
        "# Tokenizer"
      ],
      "metadata": {
        "id": "Y66oamLA9LYP"
      }
    },
    {
      "cell_type": "code",
      "source": [
        "from transformers import AutoTokenizer\n",
        "\n",
        "tokenizer = AutoTokenizer.from_pretrained(model_name, padding_side=\"right\")"
      ],
      "metadata": {
        "colab": {
          "base_uri": "https://localhost:8080/",
          "height": 145,
        },
        "id": "Bm1Hclel2st0",
        "outputId": "57189d8a-59a2-402f-9408-a23000e5e613"
      },
      "execution_count": null,
    },
    {
      "cell_type": "code",
      "source": [
        "# Tokenizer Properties\n",
        "\n",
        "print(f\"Vocab size       : {tokenizer.vocab_size}\")\n",
        "print(f\"Max model length : {tokenizer.model_max_length}\")\n",
        "print(f\"Special tokens   : {tokenizer.all_special_tokens}\")"
      ],
      "metadata": {
        "colab": {
          "base_uri": "https://localhost:8080/"
        },
        "id": "7cXt4zzE2srS",
        "outputId": "1c64215b-a033-4073-84ac-76b6781cf7a3"
      },
      "execution_count": null,
      "outputs": [
        {
          "output_type": "stream",
          "name": "stdout",
          "text": [
            "Vocab size       : 256000\n",
            "Max model length : 1000000000000000019884624838656\n",
            "Special tokens   : ['<bos>', '<eos>', '<unk>', '<pad>', '<start_of_turn>', '<end_of_turn>']\n"
          ]
        }
      ]
    },
    {
      "cell_type": "code",
      "source": [],
      "metadata": {
        "id": "uk_dAYFz3uyJ"
      },
      "execution_count": null,
      "outputs": []
    },
    {
      "cell_type": "markdown",
      "source": [
        "### Token Length Analysis"
      ],
      "metadata": {
        "id": "rbEiI4mEGgzz"
      }
    },
    {
      "cell_type": "code",
      "source": [
        "# Compute token counts for each headline\n",
        "token_lengths = [\n",
        "    len(tokenizer(sentence, truncation=True, max_length=256)[\"input_ids\"])\n",
        "    for sentence in df[\"sentence\"]\n",
        "]\n",
        "df[\"token_count\"] = token_lengths\n",
        "\n",
        "print(\"\\nOverall token count stats:\")\n",
        "print(df[\"token_count\"].describe().round(1))\n",
        "\n",
        "\n",
        "# Plot side-by-side distributions\n",
        "fig, (ax1, ax2) = plt.subplots(1, 2, figsize=(10, 4))\n",
        "\n",
        "# a) All headlines\n",
        "ax1.hist(token_lengths, bins=20, alpha=0.7, edgecolor='black')\n",
        "ax1.set_title(\"Token Count Distribution (All)\")\n",
        "ax1.set_xlabel(\"Tokens per Headline\")\n",
        "ax1.set_ylabel(\"Frequency\")\n",
        "ax1.axvline(np.mean(token_lengths), color=\"red\", linestyle=\"--\", label=f\"Mean: {np.mean(token_lengths):.1f}\")\n",
        "ax1.legend()\n",
        "\n",
        "# b) By\n",
        "plot_order = [1, 2, 0]\n",
        "for label_id in plot_order:\n",
        "    lengths = df[df[\"label\"] == label_id][\"token_count\"]\n",
        "    ax2.hist(lengths, bins=15, alpha=0.6, label=label_names[label_id], edgecolor='black')\n",
        "\n",
        "ax2.set_title(\"Token Count by Sentiment\")\n",
        "ax2.set_xlabel(\"Tokens per Headline\")\n",
        "ax2.set_ylabel(\"Frequency\")\n",
        "ax2.legend()\n",
        "\n",
        "plt.tight_layout()\n",
        "plt.show()"
      ],
      "metadata": {
        "colab": {
          "base_uri": "https://localhost:8080/",
          "height": 598
        },
        "id": "JbNuymuE3uv0",
        "outputId": "7322ac5a-c5b2-4b4d-e028-29579a57d270"
      },
      "execution_count": null,
      "outputs": [
        {
          "output_type": "stream",
          "name": "stdout",
          "text": [
            "\n",
            "Overall token count stats:\n",
            "count    3453.0\n",
            "mean       31.5\n",
            "std        15.5\n",
            "min         3.0\n",
            "25%        21.0\n",
            "50%        29.0\n",
            "75%        39.0\n",
            "max       183.0\n",
            "Name: token_count, dtype: float64\n"
          ]
        },
        {
          "output_type": "display_data",
          "data": {
            "text/plain": [
              "<Figure size 1000x400 with 2 Axes>"
            ],
            "image/png": "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\n"
          },
          "metadata": {}
        }
      ]
    },
    {
      "cell_type": "code",
      "source": [],
      "metadata": {
        "id": "A3aKaYFR3utd"
      },
      "execution_count": null,
      "outputs": []
    },
    {
      "cell_type": "markdown",
      "source": [
        "### Tokenization Examples"
      ],
      "metadata": {
        "id": "qsyFfMVmGufm"
      }
    },
    {
      "cell_type": "code",
      "source": [
        "# Flatten all token IDs, then convert to tokens\n",
        "all_ids = [\n",
        "    tid\n",
        "    for sentence in df[\"sentence\"]\n",
        "    for tid in tokenizer(sentence)[\"input_ids\"]\n",
        "    if tid not in tokenizer.all_special_ids\n",
        "]\n",
        "all_tokens = [tokenizer.convert_ids_to_tokens(tid) for tid in all_ids]\n",
        "\n",
        "subword_counts = Counter(all_tokens).most_common(20)\n",
        "subwords, counts = zip(*subword_counts)\n",
        "\n",
        "print(\"Top 20 Subwords (Filtered)\")\n",
        "\n",
        "for tok, cnt in subword_counts:\n",
        "    print(f\"{tok:12s}: {cnt}\")\n",
        "\n",
        "plt.figure(figsize=(8, 4))\n",
        "sns.barplot(x=list(subwords), y=list(counts))\n",
        "plt.title(\"Top 20 Subwords by Frequency\")\n",
        "plt.xticks(rotation=45, ha=\"right\")\n",
        "plt.xlabel(\"Subword Token\")\n",
        "plt.ylabel(\"Frequency\")\n",
        "plt.tight_layout()\n",
        "plt.show()"
      ],
      "metadata": {
        "colab": {
          "base_uri": "https://localhost:8080/",
          "height": 841
        },
        "id": "hniWI_3svcVC",
        "outputId": "e904987b-9ed7-4d03-a4ed-33a2d8d53cd8"
      },
      "execution_count": null,
      "outputs": [
        {
          "output_type": "stream",
          "name": "stdout",
          "text": [
            "Top 20 Subwords (Filtered)\n",
            "0           : 4530\n",
            "▁           : 4378\n",
            "▁.          : 3669\n",
            "▁,          : 3318\n",
            "▁the        : 3243\n",
            "2           : 2507\n",
            "▁of         : 2304\n",
            "1           : 2143\n",
            "▁in         : 1939\n",
            ".           : 1887\n",
            "▁and        : 1791\n",
            "▁to         : 1699\n",
            "▁EUR        : 1184\n",
            "▁a          : 1117\n",
            "5           : 1064\n",
            "3           : 1055\n",
            "The         : 972\n",
            "-           : 971\n",
            "9           : 853\n",
            "8           : 848\n"
          ]
        },
        {
          "output_type": "stream",
          "name": "stderr",
          "text": [
            "<ipython-input-17-58c73c8533c7>:24: UserWarning: Glyph 9601 (\\N{LOWER ONE EIGHTH BLOCK}) missing from font(s) Liberation Sans.\n",
            "  plt.tight_layout()\n",
            "/usr/local/lib/python3.11/dist-packages/IPython/core/pylabtools.py:151: UserWarning: Glyph 9601 (\\N{LOWER ONE EIGHTH BLOCK}) missing from font(s) Liberation Sans.\n",
            "  fig.canvas.print_figure(bytes_io, **kw)\n"
          ]
        },
        {
          "output_type": "display_data",
          "data": {
            "text/plain": [
              "<Figure size 800x400 with 1 Axes>"
            ],
            "image/png": "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\n"
          },
          "metadata": {}
        }
      ]
    },
    {
      "cell_type": "code",
      "source": [],
      "metadata": {
        "id": "qO1NcBMrGrCT"
      },
      "execution_count": null,
      "outputs": []
    },
    {
      "cell_type": "code",
      "source": [
        "print(\"Sample Sentence Tokenizations\")\n",
        "\n",
        "sample_sentences = [\n",
        "    \"Apple reports record Q3 revenue growth of 15%\",\n",
        "    \"Tesla stock plunges after disappointing earnings\",\n",
        "    \"Fed raises rates by 0.25 bps amid inflation concerns\"\n",
        "]\n",
        "\n",
        "for sentence in sample_sentences:\n",
        "    toks = tokenizer.tokenize(sentence)\n",
        "    print(f\"\\nSentence: {sentence}\")\n",
        "    print(f\"Tokens ({len(toks)}): {toks}\")"
      ],
      "metadata": {
        "colab": {
          "base_uri": "https://localhost:8080/"
        },
        "id": "YMAGDpuLp3eR",
        "outputId": "f6483b7f-1dff-4cc0-b3e7-b8b89592c57f"
      },
      "execution_count": null,
      "outputs": [
        {
          "output_type": "stream",
          "name": "stdout",
          "text": [
            "Sample Sentence Tokenizations\n",
            "\n",
            "Sentence: Apple reports record Q3 revenue growth of 15%\n",
            "Tokens (12): ['Apple', '▁reports', '▁record', '▁Q', '3', '▁revenue', '▁growth', '▁of', '▁', '1', '5', '%']\n",
            "\n",
            "Sentence: Tesla stock plunges after disappointing earnings\n",
            "Tokens (7): ['Tesla', '▁stock', '▁plung', 'es', '▁after', '▁disappointing', '▁earnings']\n",
            "\n",
            "Sentence: Fed raises rates by 0.25 bps amid inflation concerns\n",
            "Tokens (13): ['Fed', '▁raises', '▁rates', '▁by', '▁', '0', '.', '2', '5', '▁bps', '▁amid', '▁inflation', '▁concerns']\n"
          ]
        }
      ]
    },
    {
      "cell_type": "code",
      "source": [],
      "metadata": {
        "id": "JBJQ_ATRp3b3"
      },
      "execution_count": null,
      "outputs": []
    },
    {
      "cell_type": "code",
      "source": [],
      "metadata": {
        "id": "NdtUJ1eT_IaR"
      },
      "execution_count": null,
      "outputs": []
    },
    {
      "cell_type": "code",
      "source": [],
      "metadata": {
        "id": "pyDgA-MvFKGk"
      },
      "execution_count": null,
      "outputs": []
    },
    {
      "cell_type": "markdown",
      "source": [
        "# Formatting Data"
      ],
      "metadata": {
        "id": "i9HeLCEBBTve"
      }
    },
    {
      "cell_type": "code",
      "source": [
        "# Mapping Function\n",
        "\n",
        "if tokenizer.pad_token is None:\n",
        "    tokenizer.pad_token = tokenizer.eos_token\n",
        "\n",
        "label_names = dataset.features[\"label\"].names\n",
        "label_map = {i: name.upper() for i, name in enumerate(label_names)}\n",
        "\n",
        "def format_example(example):\n",
        "\n",
        "    # Map label →  sentiment\n",
        "    idx = example[\"label\"]\n",
        "    sentiment_label = label_map[idx]\n",
        "\n",
        "    # Build full text as one string\n",
        "    prompt = (\n",
        "        'Analyze the sentiment of this financial headline and respond with JSON format.\\n\\n'\n",
        "        f'Input: \"{example[\"sentence\"]}\"\\n'\n",
        "        'Output: {\"sentiment\": '\n",
        "    )\n",
        "    completion = f'\"{sentiment_label}\"}}'\n",
        "    full = prompt + completion\n",
        "\n",
        "    # Tokenize once, with truncation+padding\n",
        "    toks = tokenizer(\n",
        "        full,\n",
        "        truncation=True,\n",
        "        max_length=256,\n",
        "        padding=\"max_length\",\n",
        "        return_tensors=None,\n",
        "        add_special_tokens=True\n",
        "    )\n",
        "    input_ids = toks[\"input_ids\"]\n",
        "    attention_mask = toks[\"attention_mask\"]\n",
        "\n",
        "    # Figure out where the completion starts\n",
        "    prompt_ids = tokenizer(\n",
        "        prompt,\n",
        "        truncation=True,\n",
        "        max_length=256,\n",
        "        padding=False,\n",
        "        add_special_tokens=True\n",
        "    )[\"input_ids\"]\n",
        "    prompt_len = len(prompt_ids)\n",
        "\n",
        "    # Build labels mask, handling edge cases\n",
        "    labels = [-100] * len(input_ids)  # Start with all ignored\n",
        "\n",
        "    # Only supervise tokens that are part of the completion AND not padding\n",
        "    for i in range(prompt_len, len(input_ids)):\n",
        "        if input_ids[i] != tokenizer.pad_token_id:\n",
        "            labels[i] = input_ids[i]\n",
        "\n",
        "    return {\n",
        "        \"input_ids\": input_ids,\n",
        "        \"attention_mask\": attention_mask,\n",
        "        \"labels\": labels\n",
        "    }\n"
      ],
      "metadata": {
        "id": "fQBdef2PMmF9"
      },
      "execution_count": null,
      "outputs": []
    },
    {
      "cell_type": "code",
      "source": [],
      "metadata": {
        "id": "JG-hxMftToDw"
      },
      "execution_count": null,
      "outputs": []
    },
    {
      "cell_type": "markdown",
      "source": [
        "### Formatting Check\n"
      ],
      "metadata": {
        "id": "PMixhtI8561B"
      }
    },
    {
      "cell_type": "code",
      "source": [
        "# Tokenized length stats\n",
        "def analyze_tokenized_lengths(dataset_sample):\n",
        "    lengths = []\n",
        "    for example in dataset_sample:\n",
        "        out = format_example(example)\n",
        "        # count non-pad tokens\n",
        "        actual_len = sum(1 for tok in out[\"input_ids\"] if tok != tokenizer.pad_token_id)\n",
        "        lengths.append(actual_len)\n",
        "    print(f\"Sample size: {len(lengths)}\")\n",
        "    print(f\"Mean tokens (non-pad): {np.mean(lengths):.1f}\")\n",
        "    print(f\"Max tokens  (non-pad): {np.max(lengths)}\")\n",
        "    return lengths"
      ],
      "metadata": {
        "id": "Vu2v8A6XToA_"
      },
      "execution_count": null,
      "outputs": []
    },
    {
      "cell_type": "code",
      "source": [
        "# Run on first 100 examples of your training data\n",
        "sample_ds = dataset.select(range(100))\n",
        "sample_lengths = analyze_tokenized_lengths(sample_ds)\n",
        "\n",
        "# Single-example formatting\n",
        "pos_idx       = label_names.index(\"positive\")\n",
        "test_example  = {\n",
        "    \"sentence\": \"Apple stock surges 15% after earnings beat\",\n",
        "    \"label\":    pos_idx\n",
        "}\n",
        "formatted = format_example(test_example)"
      ],
      "metadata": {
        "colab": {
          "base_uri": "https://localhost:8080/"
        },
        "id": "3cIlUxtcTn-b",
        "outputId": "e532b0c5-15e6-435c-978b-637508177703"
      },
      "execution_count": null,
      "outputs": [
        {
          "output_type": "stream",
          "name": "stdout",
          "text": [
            "Sample size: 100\n",
            "Mean tokens (non-pad): 67.7\n",
            "Max tokens  (non-pad): 109\n"
          ]
        }
      ]
    },
    {
      "cell_type": "code",
      "source": [],
      "metadata": {
        "id": "VuGuKOowMmDo"
      },
      "execution_count": null,
      "outputs": []
    },
    {
      "cell_type": "code",
      "source": [
        "def inspect_example(example):\n",
        "    out = format_example(example)\n",
        "    # Full prompt + completion\n",
        "    full = tokenizer.decode(out[\"input_ids\"], skip_special_tokens=False)\n",
        "    # Only the part we supervise\n",
        "    label_ids     = [tok for tok, lab in zip(out[\"input_ids\"], out[\"labels\"]) if lab != -100]\n",
        "    supervised    = tokenizer.decode(label_ids, skip_special_tokens=True)\n",
        "\n",
        "    print(\"── Full Prompt+Completion ──\\n\", full, \"\\n\")\n",
        "    print(\"── Supervised Portion ──\\n\", supervised)"
      ],
      "metadata": {
        "id": "v2lsU5ZtXfbk"
      },
      "execution_count": null,
      "outputs": []
    },
    {
      "cell_type": "code",
      "source": [
        "# Debug a real dataset example\n",
        "print(\"\\n--- Debug Real Dataset Example ---\")\n",
        "inspect_example(dataset[0])"
      ],
      "metadata": {
        "colab": {
          "base_uri": "https://localhost:8080/"
        },
        "id": "LbdGRBdJMl-y",
        "outputId": "26929188-e06c-4e35-cdc8-08886a2b78b0"
      },
      "execution_count": null,
      "outputs": [
        {
          "output_type": "stream",
          "name": "stdout",
          "text": [
            "\n",
            "--- Debug Real Dataset Example ---\n",
            "── Full Prompt+Completion ──\n",
            " <bos>Analyze the sentiment of this financial headline and respond with JSON format.\n",
            "\n",
            "Input: \"According to Gran , the company has no plans to move all production to Russia , although that is where the company is growing .\"\n",
            "Output: {\"sentiment\": \"NEUTRAL\"}<pad><pad><pad><pad><pad><pad><pad><pad><pad><pad><pad><pad><pad><pad><pad><pad><pad><pad><pad><pad><pad><pad><pad><pad><pad><pad><pad><pad><pad><pad><pad><pad><pad><pad><pad><pad><pad><pad><pad><pad><pad><pad><pad><pad><pad><pad><pad><pad><pad><pad><pad><pad><pad><pad><pad><pad><pad><pad><pad><pad><pad><pad><pad><pad><pad><pad><pad><pad><pad><pad><pad><pad><pad><pad><pad><pad><pad><pad><pad><pad><pad><pad><pad><pad><pad><pad><pad><pad><pad><pad><pad><pad><pad><pad><pad><pad><pad><pad><pad><pad><pad><pad><pad><pad><pad><pad><pad><pad><pad><pad><pad><pad><pad><pad><pad><pad><pad><pad><pad><pad><pad><pad><pad><pad><pad><pad><pad><pad><pad><pad><pad><pad><pad><pad><pad><pad><pad><pad><pad><pad><pad><pad><pad><pad><pad><pad><pad><pad><pad><pad><pad><pad><pad><pad><pad><pad><pad><pad><pad><pad><pad><pad><pad><pad><pad><pad><pad><pad><pad><pad><pad><pad><pad><pad><pad><pad><pad><pad><pad><pad><pad><pad><pad><pad><pad><pad><pad><pad><pad><pad><pad><pad><pad><pad><pad><pad><pad><pad><pad><pad><pad><pad><pad> \n",
            "\n",
            "── Supervised Portion ──\n",
            " NEUTRAL\"}\n"
          ]
        }
      ]
    },
    {
      "cell_type": "code",
      "source": [],
      "metadata": {
        "id": "ywdrmygOMl8Q"
      },
      "execution_count": null,
      "outputs": []
    },
    {
      "cell_type": "code",
      "source": [],
      "metadata": {
        "id": "u9tm_eZG59ow"
      },
      "execution_count": null,
      "outputs": []
    },
    {
      "cell_type": "code",
      "source": [],
      "metadata": {
        "id": "cNN-36PKYGvp"
      },
      "execution_count": null,
      "outputs": []
    },
    {
      "cell_type": "markdown",
      "source": [
        "# Split Dataset\n"
      ],
      "metadata": {
        "id": "iVWaYvIv6jow"
      }
    },
    {
      "cell_type": "code",
      "source": [
        "# Capture original columns so we can remove them after mapping\n",
        "orig_cols = dataset.column_names\n",
        "\n",
        "# Split into 80/10/10 train/val/test\n",
        "splits = dataset.train_test_split(test_size=0.20, seed=42)\n",
        "train_ds, temp_ds = splits[\"train\"], splits[\"test\"]\n",
        "\n",
        "val_test_splits = temp_ds.train_test_split(test_size=0.5, seed=42)\n",
        "val_ds, test_ds = val_test_splits[\"train\"], val_test_splits[\"test\"]"
      ],
      "metadata": {
        "id": "tfancQvV59mm"
      },
      "execution_count": null,
      "outputs": []
    },
    {
      "cell_type": "code",
      "source": [
        "# Check split sizes\n",
        "print(f\"Train size: {len(train_ds)}\")\n",
        "print(f\"Val size: {len(val_ds)}\")\n",
        "print(f\"Test size: {len(test_ds)}\")"
      ],
      "metadata": {
        "colab": {
          "base_uri": "https://localhost:8080/"
        },
        "id": "D4dsV8QX9qWw",
        "outputId": "c667acc0-3a39-4432-a886-70474919b93f"
      },
      "execution_count": null,
      "outputs": [
        {
          "output_type": "stream",
          "name": "stdout",
          "text": [
            "Train size: 2762\n",
            "Val size: 345\n",
            "Test size: 346\n"
          ]
        }
      ]
    },
    {
      "cell_type": "code",
      "source": [
        "# Check class distribution in the datasets\n",
        "for split_name, split_ds in [\n",
        "    (\"Train\", train_ds),\n",
        "    (\"Validation\", val_ds),\n",
        "    (\"Test\", test_ds)\n",
        "]:\n",
        "    counts = Counter(split_ds[\"label\"])\n",
        "    total  = sum(counts.values())\n",
        "\n",
        "    print(f\"\\n{split_name} class distribution:\")\n",
        "    for idx, cnt in counts.items():\n",
        "        name = label_names[idx]\n",
        "        print(f\"  {name:8s}: {cnt} ({cnt/total*100:.1f}%)\")"
      ],
      "metadata": {
        "colab": {
          "base_uri": "https://localhost:8080/"
        },
        "id": "-uHLwuYs9T_R",
        "outputId": "fdfe2e6b-525b-4c07-c94b-3c8a423d2525"
      },
      "execution_count": null,
      "outputs": [
        {
          "output_type": "stream",
          "name": "stdout",
          "text": [
            "\n",
            "Train class distribution:\n",
            "  neutral : 1708 (61.8%)\n",
            "  negative: 329 (11.9%)\n",
            "  positive: 725 (26.2%)\n",
            "\n",
            "Validation class distribution:\n",
            "  neutral : 220 (63.8%)\n",
            "  negative: 43 (12.5%)\n",
            "  positive: 82 (23.8%)\n",
            "\n",
            "Test class distribution:\n",
            "  neutral : 218 (63.0%)\n",
            "  positive: 80 (23.1%)\n",
            "  negative: 48 (13.9%)\n"
          ]
        }
      ]
    },
    {
      "cell_type": "code",
      "source": [],
      "metadata": {
        "id": "aOCzLn3k9Uww"
      },
      "execution_count": null,
      "outputs": []
    },
    {
      "cell_type": "markdown",
      "source": [
        "# Mapping"
      ],
      "metadata": {
        "id": "TRRbFU-V_eLk"
      }
    },
    {
      "cell_type": "code",
      "source": [
        "# map with the formatting function\n",
        "train_ds = train_ds.map(format_example, remove_columns=orig_cols)\n",
        "val_ds = val_ds.map(format_example, remove_columns=orig_cols)\n",
        "test_ds = test_ds.map(format_example, remove_columns=orig_cols)"
      ],
      "metadata": {
        "colab": {
          "base_uri": "https://localhost:8080/",
          "height": 113,
        },
        "id": "X68mJ1yb59kW",
        "outputId": "bf9d4860-75f4-4240-a780-48fe6687d495"
      },
      "execution_count": null,
    },
    {
      "cell_type": "code",
      "source": [
        "# Inspect a couple of formatted examples\n",
        "\n",
        "for i in [50, 51]:\n",
        "    print(f\"\\n--- Mapped Example ---\")\n",
        "    inp_ids = train_ds[i][\"input_ids\"]\n",
        "    lbls = train_ds[i][\"labels\"]\n",
        "\n",
        "    # full prompt+completion (with padding)\n",
        "    print(\"Full text:\\n\", tokenizer.decode(inp_ids, skip_special_tokens=False))\n",
        "\n",
        "    # supervised portion only\n",
        "    supervised = [tok for tok, lab in zip(inp_ids, lbls) if lab != -100]\n",
        "    print(\"Supervised part:\", tokenizer.decode(supervised, skip_special_tokens=True))"
      ],
      "metadata": {
        "colab": {
          "base_uri": "https://localhost:8080/"
        },
        "id": "bjDeHwm759dR",
        "outputId": "2c86f82a-cc74-4991-f100-abb3b8ce1951"
      },
      "execution_count": null,
      "outputs": [
        {
          "output_type": "stream",
          "name": "stdout",
          "text": [
            "\n",
            "--- Mapped Example ---\n",
            "Full text:\n",
            " <bos>Analyze the sentiment of this financial headline and respond with JSON format.\n",
            "\n",
            "Input: \"Merrill Lynch analyst Campbell Morgan upgraded his recommendation on PaperlinX from `` neutral '' to `` buy '' in May .\"\n",
            "Output: {\"sentiment\": \"POSITIVE\"}<pad><pad><pad><pad><pad><pad><pad><pad><pad><pad><pad><pad><pad><pad><pad><pad><pad><pad><pad><pad><pad><pad><pad><pad><pad><pad><pad><pad><pad><pad><pad><pad><pad><pad><pad><pad><pad><pad><pad><pad><pad><pad><pad><pad><pad><pad><pad><pad><pad><pad><pad><pad><pad><pad><pad><pad><pad><pad><pad><pad><pad><pad><pad><pad><pad><pad><pad><pad><pad><pad><pad><pad><pad><pad><pad><pad><pad><pad><pad><pad><pad><pad><pad><pad><pad><pad><pad><pad><pad><pad><pad><pad><pad><pad><pad><pad><pad><pad><pad><pad><pad><pad><pad><pad><pad><pad><pad><pad><pad><pad><pad><pad><pad><pad><pad><pad><pad><pad><pad><pad><pad><pad><pad><pad><pad><pad><pad><pad><pad><pad><pad><pad><pad><pad><pad><pad><pad><pad><pad><pad><pad><pad><pad><pad><pad><pad><pad><pad><pad><pad><pad><pad><pad><pad><pad><pad><pad><pad><pad><pad><pad><pad><pad><pad><pad><pad><pad><pad><pad><pad><pad><pad><pad><pad><pad><pad><pad><pad><pad><pad><pad><pad><pad><pad><pad><pad><pad><pad><pad><pad><pad><pad><pad><pad><pad><pad><pad><pad><pad><pad><pad><pad><pad><pad><pad>\n",
            "Supervised part: POSITIVE\"}\n",
            "\n",
            "--- Mapped Example ---\n",
            "Full text:\n",
            " <bos>Analyze the sentiment of this financial headline and respond with JSON format.\n",
            "\n",
            "Input: \"Rivals say Qualcomm has fewer patents on 3G phones than on earlier versions and should lower its rates .\"\n",
            "Output: {\"sentiment\": \"NEGATIVE\"}<pad><pad><pad><pad><pad><pad><pad><pad><pad><pad><pad><pad><pad><pad><pad><pad><pad><pad><pad><pad><pad><pad><pad><pad><pad><pad><pad><pad><pad><pad><pad><pad><pad><pad><pad><pad><pad><pad><pad><pad><pad><pad><pad><pad><pad><pad><pad><pad><pad><pad><pad><pad><pad><pad><pad><pad><pad><pad><pad><pad><pad><pad><pad><pad><pad><pad><pad><pad><pad><pad><pad><pad><pad><pad><pad><pad><pad><pad><pad><pad><pad><pad><pad><pad><pad><pad><pad><pad><pad><pad><pad><pad><pad><pad><pad><pad><pad><pad><pad><pad><pad><pad><pad><pad><pad><pad><pad><pad><pad><pad><pad><pad><pad><pad><pad><pad><pad><pad><pad><pad><pad><pad><pad><pad><pad><pad><pad><pad><pad><pad><pad><pad><pad><pad><pad><pad><pad><pad><pad><pad><pad><pad><pad><pad><pad><pad><pad><pad><pad><pad><pad><pad><pad><pad><pad><pad><pad><pad><pad><pad><pad><pad><pad><pad><pad><pad><pad><pad><pad><pad><pad><pad><pad><pad><pad><pad><pad><pad><pad><pad><pad><pad><pad><pad><pad><pad><pad><pad><pad><pad><pad><pad><pad><pad><pad><pad><pad><pad><pad><pad><pad><pad><pad><pad><pad><pad><pad>\n",
            "Supervised part: NEGATIVE\"}\n"
          ]
        }
      ]
    },
    {
      "cell_type": "code",
      "source": [],
      "metadata": {
        "id": "92zbnkh9FQDr"
      },
      "execution_count": null,
      "outputs": []
    },
    {
      "cell_type": "code",
      "source": [],
      "metadata": {
        "id": "8CauzbQtFQBL"
      },
      "execution_count": null,
      "outputs": []
    },
    {
      "cell_type": "code",
      "source": [],
      "metadata": {
        "id": "OdpH5mQAFP-2"
      },
      "execution_count": null,
      "outputs": []
    },
    {
      "cell_type": "markdown",
      "source": [
        "# Train"
      ],
      "metadata": {
        "id": "P7qSucs1_uWW"
      }
    },
    {
      "cell_type": "code",
      "source": [
        "import torch\n",
        "from peft import LoraConfig, get_peft_model\n",
        "from transformers import AutoModelForCausalLM, AutoTokenizer, BitsAndBytesConfig\n",
        "from trl import SFTTrainer, SFTConfig"
      ],
      "metadata": {
        "id": "uhEHV6woQuUU"
      },
      "execution_count": null,
      "outputs": []
    },
    {
      "cell_type": "code",
      "source": [],
      "metadata": {
        "id": "t-EQnL4rQuSI"
      },
      "execution_count": null,
      "outputs": []
    },
    {
      "cell_type": "code",
      "source": [
        "# Quantize in 4-bit\n",
        "bnb_config = BitsAndBytesConfig(\n",
        "    load_in_4bit = True,\n",
        "    bnb_4bit_quant_type = \"nf4\",\n",
        "    bnb_4bit_use_double_quant = True,\n",
        "    bnb_4bit_compute_dtype = \"float16\",\n",
        ")"
      ],
      "metadata": {
        "id": "A1IPaL4QQuPw"
      },
      "execution_count": null,
      "outputs": []
    },
    {
      "cell_type": "code",
      "source": [
        "# Load the model\n",
        "model = AutoModelForCausalLM.from_pretrained(\n",
        "    model_name,\n",
        "    device_map = \"auto\",\n",
        "    attn_implementation = \"eager\", # \"sdpa\"\n",
        "    quantization_config = bnb_config,\n",
        "    torch_dtype = \"auto\",\n",
        ")"
      ],
      "metadata": {
        "colab": {
          "base_uri": "https://localhost:8080/",
          "height": 305,
        },
        "id": "vm4dQ0soQuNW",
        "outputId": "6b804ff9-c3bd-4710-a00e-f7ed283baa70"
      },
      "execution_count": null,
    },
    {
      "cell_type": "code",
      "source": [
        "# Inject LoRA adapters\n",
        "peft_cfg = LoraConfig(\n",
        "    r = 16,\n",
        "    lora_alpha = 32,\n",
        "    target_modules = [\"q_proj\", \"k_proj\", \"v_proj\", \"o_proj\",\n",
        "                      \"gate_proj\", \"up_proj\", \"down_proj\"],\n",
        "    lora_dropout = 0,\n",
        "    bias = \"none\",\n",
        "    task_type = \"CAUSAL_LM\",\n",
        ")\n",
        "\n",
        "model = get_peft_model(model, peft_cfg)\n",
        "\n",
        "model.gradient_checkpointing_enable()\n",
        "model.enable_input_require_grads()\n",
        "model.config.use_cache = False"
      ],
      "metadata": {
        "id": "6HLXbzh2SY5K"
      },
      "execution_count": null,
      "outputs": []
    },
    {
      "cell_type": "code",
      "source": [],
      "metadata": {
        "id": "9Okp7jiOklpb"
      },
      "execution_count": null,
      "outputs": []
    },
    {
      "cell_type": "code",
      "source": [
        "# Define training arguments\n",
        "sft_config = SFTConfig(\n",
        "    seed = 42,\n",
        "    num_train_epochs = 3.0,\n",
        "    per_device_train_batch_size = 8,\n",
        "    gradient_accumulation_steps = 4,\n",
        "    learning_rate = 2e-4,\n",
        "    lr_scheduler_type = \"linear\",\n",
        "    warmup_ratio = 0.03,\n",
        "    weight_decay = 0.01,\n",
        "    dataloader_num_workers = 2,\n",
        "    dataloader_pin_memory = True,\n",
        "    fp16 = True,\n",
        "    do_eval = True,\n",
        "    eval_strategy=\"steps\",\n",
        "    eval_steps = 50,\n",
        "    per_device_eval_batch_size = 8,\n",
        "    logging_steps = 10,\n",
        "    report_to = \"none\",\n",
        "    output_dir = \"gemma-sentiment-qlora\",\n",
        "    overwrite_output_dir = True,\n",
        "    save_strategy = \"epoch\",\n",
        "    push_to_hub = True,\n",
        "    hub_model_id = \"AManzoni/gemma-sentiment-qlora\",\n",
        ")"
      ],
      "metadata": {
        "id": "ZXo_ZJGvlKLy"
      },
      "execution_count": null,
      "outputs": []
    },
    {
      "cell_type": "code",
      "source": [],
      "metadata": {
        "id": "AHAXzBZRS52m"
      },
      "execution_count": null,
      "outputs": []
    },
    {
      "cell_type": "code",
      "source": [
        "# Instantiate SFTTrainer\n",
        "trainer = SFTTrainer(\n",
        "    model = model,\n",
        "    args = sft_config,\n",
        "    train_dataset = train_ds,\n",
        "    eval_dataset = val_ds,\n",
        "    processing_class = tokenizer,\n",
        ")"
      ],
      "metadata": {
        "colab": {
          "base_uri": "https://localhost:8080/",
          "height": 118,
        },
        "id": "tvJPQPLiS50W",
        "outputId": "238abe61-e5c9-4ad5-f5ab-0c592e9b0adb"
      },
      "execution_count": null,
      "outputs": [
        {
          "output_type": "stream",
          "name": "stderr",
          "text": [
            "No label_names provided for model class `PeftModelForCausalLM`. Since `PeftModel` hides base models input arguments, if label_names is not given, label_names can't be set automatically within `Trainer`. Note that empty label_names list will be used instead.\n"
          ]
        }
      ]
    },
    {
      "cell_type": "code",
      "source": [],
      "metadata": {
        "id": "aEHKZsJQSVC8"
      },
      "execution_count": null,
      "outputs": []
    },
    {
      "cell_type": "code",
      "source": [
        "# Memory stats\n",
        "gpu_stats = torch.cuda.get_device_properties(0)\n",
        "start_gpu_memory = round(torch.cuda.max_memory_reserved() / 1024 / 1024 / 1024, 3)\n",
        "max_memory = round(gpu_stats.total_memory / 1024 / 1024 / 1024, 3)\n",
        "print(f\"GPU = {gpu_stats.name}. Max memory = {max_memory} GB.\")\n",
        "print(f\"{start_gpu_memory} GB of memory reserved.\")"
      ],
      "metadata": {
        "id": "YCc3wNQKSU6d"
      },
      "execution_count": null,
      "outputs": []
    },
    {
      "cell_type": "code",
      "source": [],
      "metadata": {
        "id": "IXKQlziMcN1P"
      },
      "execution_count": null,
      "outputs": []
    },
    {
      "cell_type": "code",
      "source": [
        "# attn_implementation=\"sdpa\""
      ],
      "metadata": {
        "id": "6d6sO3YecQsy"
      },
      "execution_count": null,
      "outputs": []
    },
    {
      "cell_type": "code",
      "source": [
        "trainer.train()"
      ],
      "metadata": {
        "colab": {
          "base_uri": "https://localhost:8080/",
          "height": 925
        },
        "id": "9VLZjgo2S72T",
        "outputId": "9e20c5a5-71e7-4c73-dd00-21f08decb791"
      },
      "execution_count": null,
      "outputs": [
        {
          "output_type": "display_data",
          "data": {
            "text/plain": [
              "<IPython.core.display.HTML object>"
            ],
            "text/html": [
              "\n",
              "    <div>\n",
              "      \n",
              "      <progress value='261' max='261' style='width:300px; height:20px; vertical-align: middle;'></progress>\n",
              "      [261/261 2:03:51, Epoch 3/3]\n",
              "    </div>\n",
              "    <table border=\"1\" class=\"dataframe\">\n",
              "  <thead>\n",
              " <tr style=\"text-align: left;\">\n",
              "      <th>Step</th>\n",
              "      <th>Training Loss</th>\n",
              "    </tr>\n",
              "  </thead>\n",
              "  <tbody>\n",
              "    <tr>\n",
              "      <td>10</td>\n",
              "      <td>22.203100</td>\n",
              "    </tr>\n",
              "    <tr>\n",
              "      <td>20</td>\n",
              "      <td>12.693400</td>\n",
              "    </tr>\n",
              "    <tr>\n",
              "      <td>30</td>\n",
              "      <td>6.537800</td>\n",
              "    </tr>\n",
              "    <tr>\n",
              "      <td>40</td>\n",
              "      <td>3.470600</td>\n",
              "    </tr>\n",
              "    <tr>\n",
              "      <td>50</td>\n",
              "      <td>2.354000</td>\n",
              "    </tr>\n",
              "    <tr>\n",
              "      <td>60</td>\n",
              "      <td>3.955800</td>\n",
              "    </tr>\n",
              "    <tr>\n",
              "      <td>70</td>\n",
              "      <td>2.128300</td>\n",
              "    </tr>\n",
              "    <tr>\n",
              "      <td>80</td>\n",
              "      <td>1.783000</td>\n",
              "    </tr>\n",
              "    <tr>\n",
              "      <td>90</td>\n",
              "      <td>1.474100</td>\n",
              "    </tr>\n",
              "    <tr>\n",
              "      <td>100</td>\n",
              "      <td>1.383400</td>\n",
              "    </tr>\n",
              "    <tr>\n",
              "      <td>110</td>\n",
              "      <td>1.464900</td>\n",
              "    </tr>\n",
              "    <tr>\n",
              "      <td>120</td>\n",
              "      <td>1.381300</td>\n",
              "    </tr>\n",
              "    <tr>\n",
              "      <td>130</td>\n",
              "      <td>1.343700</td>\n",
              "    </tr>\n",
              "    <tr>\n",
              "      <td>140</td>\n",
              "      <td>1.442100</td>\n",
              "    </tr>\n",
              "    <tr>\n",
              "      <td>150</td>\n",
              "      <td>1.413900</td>\n",
              "    </tr>\n",
              "    <tr>\n",
              "      <td>160</td>\n",
              "      <td>1.320100</td>\n",
              "    </tr>\n",
              "    <tr>\n",
              "      <td>170</td>\n",
              "      <td>1.399100</td>\n",
              "    </tr>\n",
              "    <tr>\n",
              "      <td>180</td>\n",
              "      <td>1.307300</td>\n",
              "    </tr>\n",
              "    <tr>\n",
              "      <td>190</td>\n",
              "      <td>1.287400</td>\n",
              "    </tr>\n",
              "    <tr>\n",
              "      <td>200</td>\n",
              "      <td>1.287200</td>\n",
              "    </tr>\n",
              "    <tr>\n",
              "      <td>210</td>\n",
              "      <td>1.285400</td>\n",
              "    </tr>\n",
              "    <tr>\n",
              "      <td>220</td>\n",
              "      <td>1.262400</td>\n",
              "    </tr>\n",
              "    <tr>\n",
              "      <td>230</td>\n",
              "      <td>1.254000</td>\n",
              "    </tr>\n",
              "    <tr>\n",
              "      <td>240</td>\n",
              "      <td>1.255500</td>\n",
              "    </tr>\n",
              "    <tr>\n",
              "      <td>250</td>\n",
              "      <td>1.243400</td>\n",
              "    </tr>\n",
              "    <tr>\n",
              "      <td>260</td>\n",
              "      <td>1.252900</td>\n",
              "    </tr>\n",
              "  </tbody>\n",
              "</table><p>"
            ]
          },
          "metadata": {}
        },
        {
          "output_type": "execute_result",
          "data": {
            "text/plain": [
              "TrainOutput(global_step=261, training_loss=3.0387125549645257, metrics={'train_runtime': 7459.2551, 'train_samples_per_second': 1.111, 'train_steps_per_second': 0.035, 'total_flos': 9.928885437097574e+16, 'train_loss': 3.0387125549645257})"
            ]
          },
          "metadata": {},
          "execution_count": 35
        }
      ]
    },
    {
      "cell_type": "code",
      "source": [],
      "metadata": {
        "id": "f6MGzR3qUY2U"
      },
      "execution_count": null,
      "outputs": []
    },
    {
      "cell_type": "code",
      "source": [],
      "metadata": {
        "id": "7ub-bGApUYsw"
      },
      "execution_count": null,
      "outputs": []
    },
    {
      "cell_type": "code",
      "source": [
        "# Final memory and time stats\n",
        "used_memory = round(torch.cuda.max_memory_reserved() / 1024 / 1024 / 1024, 3)\n",
        "used_memory_for_lora = round(used_memory - start_gpu_memory, 3)\n",
        "used_percentage = round(used_memory / max_memory * 100, 3)\n",
        "lora_percentage = round(used_memory_for_lora / max_memory * 100, 3)\n",
        "print(f\"{trainer.metrics['train_runtime']} seconds used for training.\")\n",
        "print(\n",
        "    f\"{round(trainer.metrics['train_runtime']/60, 2)} minutes used for training.\"\n",
        ")\n",
        "print(f\"Peak reserved memory = {used_memory} GB.\")\n",
        "print(f\"Peak reserved memory for training = {used_memory_for_lora} GB.\")\n",
        "print(f\"Peak reserved memory % of max memory = {used_percentage} %.\")\n",
        "print(f\"Peak reserved memory for training % of max memory = {lora_percentage} %.\")"
      ],
      "metadata": {
        "id": "e1I4T8niUYqQ"
      },
      "execution_count": null,
      "outputs": []
    },
    {
      "cell_type": "code",
      "source": [],
      "metadata": {
        "id": "eBOdy-XDUYnz"
      },
      "execution_count": null,
      "outputs": []
    },
    {
      "cell_type": "code",
      "source": [],
      "metadata": {
        "id": "CYnItmb4fRJr"
      },
      "execution_count": null,
      "outputs": []
    },
    {
      "cell_type": "code",
      "source": [],
      "metadata": {
        "id": "HCRLgUYNfRHP"
      },
      "execution_count": null,
      "outputs": []
    },
    {
      "cell_type": "code",
      "source": [],
      "metadata": {
        "id": "H5bgkY_TfRE5"
      },
      "execution_count": null,
      "outputs": []
    },
    {
      "cell_type": "code",
      "source": [],
      "metadata": {
        "id": "GRC1cIYVfRCX"
      },
      "execution_count": null,
      "outputs": []
    },
    {
      "cell_type": "code",
      "source": [],
      "metadata": {
        "id": "q3QPIKz5fRAB"
      },
      "execution_count": null,
      "outputs": []
    },
    {
      "cell_type": "code",
      "source": [],
      "metadata": {
        "id": "LVgsrUhVfQ9e"
      },
      "execution_count": null,
      "outputs": []
    },
    {
      "cell_type": "code",
      "source": [],
      "metadata": {
        "id": "Z_XzloaqfQ6m"
      },
      "execution_count": null,
      "outputs": []
    },
    {
      "cell_type": "code",
      "source": [
        "# inferences and test"
      ],
      "metadata": {
        "id": "Ijqa0z5MUYlT"
      },
      "execution_count": null,
      "outputs": []
    },
    {
      "cell_type": "code",
      "source": [
        "\n",
        "\n",
        "# 9) Built-in evaluation on validation set\n",
        "metrics = trainer.evaluate()\n",
        "print(\"\\n=== Validation Metrics ===\")\n",
        "print(f\"  * eval_loss      = {metrics['eval_loss']:.4f}\")\n",
        "print(f\"  * perplexity     = {math.exp(metrics['eval_loss']):.2f}\")\n",
        "\n",
        "# 10) Quick accuracy check by greedy-decoding the sentiment token\n",
        "def greedy_sentiment_accuracy(ds, n=200):\n",
        "    from tqdm.auto import tqdm\n",
        "\n",
        "    correct = 0\n",
        "    total   = 0\n",
        "    for ex in tqdm(ds.select(range(min(len(ds), n)))):\n",
        "        prompt = tokenizer.decode(ex[\"input_ids\"], skip_special_tokens=True)\n",
        "        # generate just the sentiment token + closing brace\n",
        "        out = trainer.model.generate(\n",
        "            ex[\"input_ids\"][None, :],\n",
        "            max_new_tokens=5,\n",
        "            num_beams=1,\n",
        "            do_sample=False,\n",
        "        )\n",
        "        gen = tokenizer.decode(out[0][ex[\"input_ids\"].index(tokenizer.eos_token_id)+1 :], skip_special_tokens=True)\n",
        "        # extract the first word inside quotes\n",
        "        pred = gen.strip().split('\"')[1]\n",
        "        true = label_names[ex[\"labels\"].index(next(l for l in ex[\"labels\"] if l!=-100))]\n",
        "        if pred.upper() == true.upper():\n",
        "            correct += 1\n",
        "        total += 1\n",
        "    return correct / total\n",
        "\n",
        "acc = greedy_sentiment_accuracy(val_ds, n=200)\n",
        "print(f\"\\nGreedy decoding accuracy on 200 val examples: {acc*100:.1f}%\")"
      ],
      "metadata": {
        "id": "MkTN3Ebz_n2f"
      },
      "execution_count": null,
      "outputs": []
    },
    {
      "cell_type": "code",
      "source": [],
      "metadata": {
        "id": "K89XfvsO_nzr"
      },
      "execution_count": null,
      "outputs": []
    },
    {
      "cell_type": "code",
      "source": [],
      "metadata": {
        "id": "aSYKGN98_nsW"
      },
      "execution_count": null,
      "outputs": []
    }
  ]
}
